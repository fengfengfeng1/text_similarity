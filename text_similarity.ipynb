{
 "cells": [
  {
   "cell_type": "markdown",
   "metadata": {},
   "source": [
    "# Welcome to Jupyter!"
   ]
  },
  {
   "cell_type": "code",
   "execution_count": 1,
   "metadata": {},
   "outputs": [
    {
     "name": "stdout",
     "output_type": "stream",
     "text": [
      "c x_train [[1 1 1 1 1 0]\n",
      " [1 0 1 1 1 1]]\n",
      "(2, 6)\n",
      "features: ['and', 'apples', 'i', 'like', 'oranges', 'strawberries']\n",
      "similarity: [[0.8]]\n"
     ]
    }
   ],
   "source": [
    "from sklearn.feature_extraction.text import CountVectorizer\n",
    "from sklearn.metrics.pairwise import cosine_similarity\n",
    "\n",
    "# text1= \"text1.txt\" # file path\n",
    "# text2= \"text2.txt\"\n",
    "# Document1 = ''\n",
    "# Document2 = ''\n",
    "\n",
    "# f1 = open(text1,\"r\")\n",
    "# lines = f1.readlines()\n",
    "# for line1 in lines:\n",
    "#     Document1 = Document1 + line1\n",
    "\n",
    "# f2 = open(text2,\"r\")\n",
    "# lines = f2.readlines()\n",
    "# for line2 in lines:\n",
    "#     Document2 = Document2 + line2\n",
    "\n",
    "# print('Document 1:',Document1)\n",
    "# print('Document 2:',Document2)\n",
    "\n",
    "\n",
    "Document1 = 'I like apples and oranges'\n",
    "Document2 = 'I like oranges and strawberries'\n",
    "\n",
    "corpus = [Document1,Document2]\n",
    "\n",
    "stop_words = ['i', 'me', 'my', 'myself', 'we', 'our',\n",
    "            'ours', 'ourselves', 'you', 'your', 'yours',\n",
    "            'yourself', 'yourselves', 'he', 'him', 'his',\n",
    "            'himself', 'she', 'her', 'hers', 'herself',\n",
    "            'it', 'its', 'itself', 'they', 'them', 'their',\n",
    "            'theirs', 'themselves', 'what', 'which', 'who',\n",
    "            'whom', 'this', 'that', 'these', 'those', 'am',\n",
    "            'is', 'are', 'was', 'were', 'be', 'been', 'being',\n",
    "            'have', 'has', 'had', 'having', 'do', 'does', 'did',\n",
    "            'doing', 'a', 'an', 'the', 'and', 'but', 'if', 'or',\n",
    "            'because', 'as', 'until', 'while', 'of', 'at',\n",
    "            'by', 'for', 'with', 'about', 'against', 'between',\n",
    "            'into', 'through', 'during', 'before', 'after',\n",
    "            'above', 'below', 'to', 'from', 'up', 'down', 'in',\n",
    "            'out', 'on', 'off', 'over', 'under', 'again',\n",
    "            'further', 'then', 'once', 'here', 'there', 'when',\n",
    "            'where', 'why', 'how', 'all', 'any', 'both', 'each',\n",
    "            'few', 'more', 'most', 'other', 'some', 'such',\n",
    "            'nor', 'only', 'own', 'same', 'so', 'than', 'too',\n",
    "            'very', 's', 't', 'can', 'will', 'just', 'don',\n",
    "            'should', 'now', ',','.','sir','much','ms','?','!','n','and']\n",
    "\n",
    "cvec = CountVectorizer(min_df=0,stop_words=None,token_pattern = r'[^\\s]+') # stop_words = None: not use stop words\n",
    "x_train_c = cvec.fit_transform(corpus)\n",
    "features = cvec.get_feature_names()\n",
    "print('c x_train',x_train_c.toarray())\n",
    "print(x_train_c.shape)\n",
    "print('features:',features)\n",
    "\n",
    "s = cosine_similarity(x_train_c[0], x_train_c[1])\n",
    "print('similarity:',s)"
   ]
  },
  {
   "cell_type": "markdown",
   "metadata": {},
   "source": [
    "This repo contains an introduction to [Jupyter](https://jupyter.org) and [IPython](https://ipython.org).\n",
    "\n",
    "Outline of some basics:\n",
    "\n",
    "* [Notebook Basics](../examples/Notebook/Notebook%20Basics.ipynb)\n",
    "* [IPython - beyond plain python](../examples/IPython%20Kernel/Beyond%20Plain%20Python.ipynb)\n",
    "* [Markdown Cells](../examples/Notebook/Working%20With%20Markdown%20Cells.ipynb)\n",
    "* [Rich Display System](../examples/IPython%20Kernel/Rich%20Output.ipynb)\n",
    "* [Custom Display logic](../examples/IPython%20Kernel/Custom%20Display%20Logic.ipynb)\n",
    "* [Running a Secure Public Notebook Server](../examples/Notebook/Running%20the%20Notebook%20Server.ipynb#Securing-the-notebook-server)\n",
    "* [How Jupyter works](../examples/Notebook/Multiple%20Languages%2C%20Frontends.ipynb) to run code in different languages."
   ]
  },
  {
   "cell_type": "markdown",
   "metadata": {},
   "source": [
    "You can also get this tutorial and run it on your laptop:\n",
    "\n",
    "    git clone https://github.com/ipython/ipython-in-depth\n",
    "\n",
    "Install IPython and Jupyter:\n",
    "\n",
    "with [conda](https://www.anaconda.com/download):\n",
    "\n",
    "    conda install ipython jupyter\n",
    "\n",
    "with pip:\n",
    "\n",
    "    # first, always upgrade pip!\n",
    "    pip install --upgrade pip\n",
    "    pip install --upgrade ipython jupyter\n",
    "\n",
    "Start the notebook in the tutorial directory:\n",
    "\n",
    "    cd ipython-in-depth\n",
    "    jupyter notebook"
   ]
  }
 ],
 "metadata": {
  "kernelspec": {
   "display_name": "Python 3",
   "language": "python",
   "name": "python3"
  },
  "language_info": {
   "codemirror_mode": {
    "name": "ipython",
    "version": 3
   },
   "file_extension": ".py",
   "mimetype": "text/x-python",
   "name": "python",
   "nbconvert_exporter": "python",
   "pygments_lexer": "ipython3",
   "version": "3.6.13"
  }
 },
 "nbformat": 4,
 "nbformat_minor": 2
}
